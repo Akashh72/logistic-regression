{
 "cells": [
  {
   "cell_type": "code",
   "execution_count": 29,
   "metadata": {},
   "outputs": [],
   "source": [
    "import numpy as np\n",
    "import matplotlib.pyplot as plt\n",
    "from sklearn.datasets import make_classification\n",
    "from sklearn.model_selection import train_test_split"
   ]
  },
  {
   "cell_type": "code",
   "execution_count": 30,
   "metadata": {},
   "outputs": [],
   "source": [
    "X, y = make_classification(n_features = 4, n_classes = 2, random_state=1)\n",
    "X_tr, X_te, y_tr, y_te = train_test_split(X, y, test_size = 0.1)"
   ]
  },
  {
   "cell_type": "code",
   "execution_count": 31,
   "metadata": {},
   "outputs": [
    {
     "name": "stdout",
     "output_type": "stream",
     "text": [
      "(100, 4)\n",
      "(90, 4)\n",
      "(10, 4)\n",
      "(90,)\n",
      "(10,)\n"
     ]
    }
   ],
   "source": [
    "print(X.shape)\n",
    "print(X_tr.shape)\n",
    "print(X_te.shape)\n",
    "print(y_tr.shape)\n",
    "print(y_te.shape)"
   ]
  },
  {
   "cell_type": "code",
   "execution_count": 32,
   "metadata": {},
   "outputs": [],
   "source": [
    "def standerdize(x):\n",
    "    mu=np.mean(x)\n",
    "    std=np.std(x)\n",
    "    return (x-mu)/std"
   ]
  },
  {
   "cell_type": "code",
   "execution_count": 33,
   "metadata": {},
   "outputs": [],
   "source": [
    "def preprocess(x):\n",
    "    a=np.ones((np.shape(x)[0],1))\n",
    "    x=np.concatenate((a,x),axis=1)\n",
    "    x=standerdize(x)\n",
    "    return x"
   ]
  },
  {
   "cell_type": "code",
   "execution_count": 34,
   "metadata": {},
   "outputs": [],
   "source": [
    "def sigmoid(x,w):\n",
    "    z=np.dot(x,w)\n",
    "    return (1/(1+np.exp(-z)))"
   ]
  },
  {
   "cell_type": "code",
   "execution_count": 35,
   "metadata": {},
   "outputs": [],
   "source": [
    "def costfunction(h,y):\n",
    "    cost1=np.dot(y.T,np.log(h))\n",
    "    cost2=np.dot((1-y).T,np.log(1-h))\n",
    "    cost=-(1/len(y))*(cost1+cost2)\n",
    "    return cost"
   ]
  },
  {
   "cell_type": "code",
   "execution_count": 36,
   "metadata": {},
   "outputs": [],
   "source": [
    "def logistic(x,y,alpha,ephos):\n",
    "    x=preprocess(x)\n",
    "    w=np.zeros((np.shape(x)[1],1))\n",
    "    cost_list=[]\n",
    "    for iter in range(ephos):\n",
    "        h=sigmoid(x,w)\n",
    "        cost=costfunction(h,y)\n",
    "        cost_list.append(cost)\n",
    "        gradient=np.dot(x.T,h-np.reshape(y,(len(y),1)))\n",
    "        w=w-alpha*gradient\n",
    "    return w,cost_list"
   ]
  },
  {
   "cell_type": "code",
   "execution_count": 37,
   "metadata": {},
   "outputs": [],
   "source": [
    "weight,cost=logistic(X_tr,y_tr,0.001,400)"
   ]
  },
  {
   "cell_type": "code",
   "execution_count": 38,
   "metadata": {},
   "outputs": [
    {
     "name": "stdout",
     "output_type": "stream",
     "text": [
      "Theta\n",
      " [[ 0.8439514 ]\n",
      " [ 1.01452058]\n",
      " [ 0.16521741]\n",
      " [-1.22801609]\n",
      " [ 2.67913143]]\n"
     ]
    }
   ],
   "source": [
    "print(\"Theta\\n\",weight)"
   ]
  },
  {
   "cell_type": "code",
   "execution_count": 39,
   "metadata": {},
   "outputs": [],
   "source": [
    "def prediction(x,w):\n",
    "    x=preprocess(x)\n",
    "    h=sigmoid(x,w)\n",
    "    y_predict=[]\n",
    "    for i in h:\n",
    "        if i>=0.5:\n",
    "            y_predict.append(1)\n",
    "        else:\n",
    "            y_predict.append(0)\n",
    "    return y_predict"
   ]
  },
  {
   "cell_type": "code",
   "execution_count": 40,
   "metadata": {},
   "outputs": [],
   "source": [
    "y_predict=np.array(prediction(X_te,weight))"
   ]
  },
  {
   "cell_type": "code",
   "execution_count": 41,
   "metadata": {},
   "outputs": [
    {
     "data": {
      "text/plain": [
       "array([0, 0, 0, 1, 1, 0, 1, 1, 0, 0])"
      ]
     },
     "execution_count": 41,
     "metadata": {},
     "output_type": "execute_result"
    }
   ],
   "source": [
    "y_predict"
   ]
  },
  {
   "cell_type": "code",
   "execution_count": 42,
   "metadata": {},
   "outputs": [
    {
     "data": {
      "text/plain": [
       "array([0, 0, 0, 1, 1, 0, 1, 1, 0, 0])"
      ]
     },
     "execution_count": 42,
     "metadata": {},
     "output_type": "execute_result"
    }
   ],
   "source": [
    "y_te"
   ]
  }
 ],
 "metadata": {
  "kernelspec": {
   "display_name": "Python 3.10.6 64-bit",
   "language": "python",
   "name": "python3"
  },
  "language_info": {
   "codemirror_mode": {
    "name": "ipython",
    "version": 3
   },
   "file_extension": ".py",
   "mimetype": "text/x-python",
   "name": "python",
   "nbconvert_exporter": "python",
   "pygments_lexer": "ipython3",
   "version": "3.10.6"
  },
  "orig_nbformat": 4,
  "vscode": {
   "interpreter": {
    "hash": "73261e48852d51a8619d3559d80afe0391a56a50e480a00694bcdf352813ba28"
   }
  }
 },
 "nbformat": 4,
 "nbformat_minor": 2
}
